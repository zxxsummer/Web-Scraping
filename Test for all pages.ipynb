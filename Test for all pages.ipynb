{
 "cells": [
  {
   "cell_type": "code",
   "execution_count": 1,
   "metadata": {
    "collapsed": true
   },
   "outputs": [],
   "source": [
    "import requests\n",
    "from bs4 import BeautifulSoup as bs\n",
    "r=requests.get(url='http://cluster.alibaba.com/Electrical-Equipment-Supplies-Vietnam_100004073_supplier.html')\n",
    "soup=bs(r.text,'lxml')\n",
    "\n",
    "#contant person name, company name, company address including physical address, zip, country/region, province/state and city\n",
    "contact_name=list()\n",
    "company_name=list()\n",
    "company_add=list()\n",
    "\n",
    "for item in soup.find_all('div',class_='sup-til-right'):\n",
    "    company_name.append(item.find('a').get_text())\n",
    "for item in soup.find_all('a',class_='phone'):\n",
    "    link=item.get('href')\n",
    "    cont=bs(requests.get(link).text,'lxml')\n",
    "    for det in cont.find_all('div',class_='contact-info'):\n",
    "        contact_name.append(det.find('h1',class_='name').get_text().strip())\n",
    "    for det in cont.find_all('div',class_='public-info'):\n",
    "        company_add.append(det.find('dl',class_='dl-horizontal').text.strip('\\n').replace('\\n',' '))"
   ]
  },
  {
   "cell_type": "code",
   "execution_count": 2,
   "metadata": {
    "collapsed": true
   },
   "outputs": [],
   "source": [
    "#company web list: each company has at least one website, seprate by space\n",
    "#company alipage: each company has a link to the store on alibaba\n",
    "#response_time, response_rate: not all company has these two characteristics\n",
    "company_web=list()\n",
    "company_ali=list()\n",
    "response_time=list()\n",
    "response_rate=list()\n",
    "for item in soup.find_all('a',class_='phone'):\n",
    "    link=item.get('href')\n",
    "    cont=bs(requests.get(link).text,'lxml')\n",
    "    count=0\n",
    "    for td in cont.find('table',class_='company-info-data table').find_all('td'):\n",
    "        count += 1\n",
    "        if count%8==0:\n",
    "            company_ali.append(td.text.strip('\\n'))\n",
    "        if count%6==0:\n",
    "            company_web.append(td.text.strip('\\n').replace('\\n',' '))\n",
    "    try:\n",
    "        response_time.append(cont.find('table', class_=\"card-table performance-table\").find_all('td')[0].text.strip().replace('\\n',''))\n",
    "    except:\n",
    "        response_time.append('NA')\n",
    "    try:\n",
    "        response_rate.append(cont.find('table', class_=\"card-table performance-table\").find_all('td')[1].text.strip().replace('\\n',''))\n",
    "    except:\n",
    "        response_rate.append('NA')"
   ]
  },
  {
   "cell_type": "code",
   "execution_count": 3,
   "metadata": {
    "collapsed": false
   },
   "outputs": [],
   "source": [
    "business_type=list()\n",
    "location=list()\n",
    "main_products=list()\n",
    "total_employees=list()\n",
    "total_annual_revenue=list()\n",
    "year_established=list()\n",
    "top_3_markets=list()\n",
    "certification=list()\n",
    "product_certification=list()\n",
    "market=list()\n",
    "export=list()\n",
    "trade_employees=list()\n",
    "\n",
    "for item in soup.find_all('div',class_='sup-til-right'):\n",
    "    link=item.find('a').get('href')\n",
    "    newpage=bs(requests.get(link).content,'lxml')\n",
    "    for table in newpage.find_all('table',class_='content-table'):\n",
    "        try:\n",
    "            business_type.append(table.find_all('td',class_='col-value')[0].text.strip())\n",
    "            location.append(table.find_all('td',class_='col-value')[1].text.strip())\n",
    "            main_products.append(table.find_all('td',class_='col-value')[2].text.strip())\n",
    "            total_employees.append(table.find_all('td',class_='col-value')[3].text.strip())\n",
    "        except:\n",
    "            total_employees.append(\"NA\")\n",
    "        try:\n",
    "            total_annual_revenue.append(table.find_all('td',class_='col-value')[4].text.strip())\n",
    "        except:\n",
    "            total_annual_revenue.append(\"NA\")\n",
    "        try:\n",
    "            year_established.append(table.find_all('td',class_='col-value')[5].text.strip())\n",
    "        except:\n",
    "            year_established.append(\"NA\")\n",
    "        try:\n",
    "            top_3_markets.append(table.find_all('td',class_='col-value')[6].text.strip().replace('\\n',' '))\n",
    "        except:\n",
    "            top_3_markets.append(\"NA\")\n",
    "        try:\n",
    "            certification.append(table.find_all('td',class_='col-value')[7].text.strip().replace('\\n',' '))\n",
    "        except:\n",
    "            certification.append('NA')\n",
    "        try:\n",
    "            product_certification.append(table.find_all('td',class_='col-value')[8].text.strip().replace('\\n',' '))\n",
    "        except:\n",
    "            product_certification.append('NA')\n",
    "    try:\n",
    "        mkt=newpage.find('div',class_='trade-market-table').find_all('td')\n",
    "        for i in range(0,len(mkt)):\n",
    "            mkt[i]=mkt[i].text\n",
    "        market.append(mkt)\n",
    "    except:\n",
    "        market.append('NA')\n",
    "    try:\n",
    "        exp=newpage.find('div',class_='trade-content').find_all('td',class_='col-center')[0].text\n",
    "        export.append(exp)\n",
    "    except:\n",
    "        export.append('NA')\n",
    "    try:\n",
    "        tra=newpage.find('div',class_='trade-content').find_all('td',class_='col-center')[1].text\n",
    "        trade_employees.append(tra)\n",
    "    except:\n",
    "        trade_employees.append('NA')"
   ]
  },
  {
   "cell_type": "code",
   "execution_count": 4,
   "metadata": {
    "collapsed": true
   },
   "outputs": [],
   "source": [
    "import csv\n",
    "import pandas as pd\n",
    "import numpy as np"
   ]
  },
  {
   "cell_type": "code",
   "execution_count": 5,
   "metadata": {
    "collapsed": true
   },
   "outputs": [],
   "source": [
    "ls=list()\n",
    "ls.append(company_name)\n",
    "ls.append(company_add)\n",
    "ls.append(contact_name)\n",
    "ls.append(company_web)\n",
    "ls.append(company_ali)\n",
    "ls.append(business_type)\n",
    "ls.append(location)\n",
    "ls.append(main_products)\n",
    "ls.append(total_employees)\n",
    "ls.append(total_annual_revenue)\n",
    "ls.append(year_established)\n",
    "ls.append(top_3_markets)\n",
    "ls.append(response_time)\n",
    "ls.append(response_rate)\n",
    "ls.append(certification)\n",
    "ls.append(product_certification)\n",
    "ls.append(market)\n",
    "ls.append(export)\n",
    "ls.append(trade_employees)\n",
    "df=pd.DataFrame(ls)"
   ]
  },
  {
   "cell_type": "code",
   "execution_count": 6,
   "metadata": {
    "collapsed": false
   },
   "outputs": [],
   "source": [
    "df=df.T\n",
    "df.to_csv(\"ali_elec_1_1.csv\",index=False)"
   ]
  },
  {
   "cell_type": "code",
   "execution_count": null,
   "metadata": {
    "collapsed": true
   },
   "outputs": [],
   "source": []
  }
 ],
 "metadata": {
  "anaconda-cloud": {},
  "kernelspec": {
   "display_name": "Python 3",
   "language": "python",
   "name": "python3"
  },
  "language_info": {
   "codemirror_mode": {
    "name": "ipython",
    "version": 3
   },
   "file_extension": ".py",
   "mimetype": "text/x-python",
   "name": "python",
   "nbconvert_exporter": "python",
   "pygments_lexer": "ipython3",
   "version": "3.6.0"
  }
 },
 "nbformat": 4,
 "nbformat_minor": 2
}
